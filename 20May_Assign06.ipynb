{
 "cells": [
  {
   "cell_type": "code",
   "execution_count": null,
   "id": "208dc890",
   "metadata": {},
   "outputs": [],
   "source": [
    " #########  Que 1  #########"
   ]
  },
  {
   "cell_type": "code",
   "execution_count": null,
   "id": "88f6f0de",
   "metadata": {},
   "outputs": [],
   "source": [
    "Keywords in Python are reserved words that can not be used as a variable name, function name, or any other identifier."
   ]
  },
  {
   "cell_type": "code",
   "execution_count": 1,
   "id": "547d97e9",
   "metadata": {},
   "outputs": [
    {
     "name": "stdout",
     "output_type": "stream",
     "text": [
      "The list of keywords is : \n",
      "['False', 'None', 'True', 'and', 'as', 'assert', 'async', 'await', 'break', 'class', 'continue', 'def', 'del', 'elif', 'else', 'except', 'finally', 'for', 'from', 'global', 'if', 'import', 'in', 'is', 'lambda', 'nonlocal', 'not', 'or', 'pass', 'raise', 'return', 'try', 'while', 'with', 'yield']\n"
     ]
    }
   ],
   "source": [
    "import keyword        # importing \"keyword\" for keyword operations\n",
    " \n",
    "print(\"The list of keywords is : \")\n",
    "print(keyword.kwlist)    # printing all keywords at once using \"kwlist()\"\n"
   ]
  },
  {
   "cell_type": "code",
   "execution_count": null,
   "id": "a0ef1b0b",
   "metadata": {},
   "outputs": [],
   "source": []
  },
  {
   "cell_type": "code",
   "execution_count": null,
   "id": "fd28573d",
   "metadata": {},
   "outputs": [],
   "source": [
    " #########  Que 2   #########"
   ]
  },
  {
   "cell_type": "code",
   "execution_count": null,
   "id": "a6536006",
   "metadata": {},
   "outputs": [],
   "source": [
    "Q.2. What are the rules to create variables in python?"
   ]
  },
  {
   "cell_type": "code",
   "execution_count": null,
   "id": "df29294f",
   "metadata": {},
   "outputs": [],
   "source": [
    "A variable can have a short name (like x and y) or a more descriptive name (age, carname, total_volume).\n",
    "\n",
    "Rules for Python variables:\n",
    "\n",
    "A variable name must start with a letter or the underscore character\n",
    "A variable name cannot start with a number\n",
    "A variable name can only contain alpha-numeric characters and underscores (A-z, 0-9, and _ )\n",
    "Variable names are case-sensitive (age, Age and AGE are three different variables)"
   ]
  },
  {
   "cell_type": "code",
   "execution_count": null,
   "id": "ededafb4",
   "metadata": {},
   "outputs": [],
   "source": []
  },
  {
   "cell_type": "code",
   "execution_count": null,
   "id": "13f411b8",
   "metadata": {},
   "outputs": [],
   "source": [
    "    #########  Que 3   #########\n",
    "Q.3. What are the standards and conventions followed for the nomenclature of variables in\n",
    "python to improve code readability and maintainability?"
   ]
  },
  {
   "cell_type": "code",
   "execution_count": null,
   "id": "52cebc24",
   "metadata": {},
   "outputs": [],
   "source": [
    "1.Meaningful and understandable variables name helps anyone to understand the reason of using it.\n",
    "2.Local variables should be named using camel case lettering starting with small letter (e.g. localData) whereas Global \n",
    "variables names should start with a capital letter (e.g. GlobalData). Constant names should be formed using capital letters only\n",
    "(e.g. CONSDATA).\n",
    "3.It is better to avoid the use of digits in variable names.\n"
   ]
  },
  {
   "cell_type": "code",
   "execution_count": null,
   "id": "9ffc497c",
   "metadata": {},
   "outputs": [],
   "source": []
  },
  {
   "cell_type": "code",
   "execution_count": null,
   "id": "fb723c71",
   "metadata": {},
   "outputs": [],
   "source": [
    " #########  Que 4   #########"
   ]
  },
  {
   "cell_type": "code",
   "execution_count": null,
   "id": "0ab1f7c7",
   "metadata": {},
   "outputs": [],
   "source": [
    "Q.4. What will happen if a keyword is used as a variable name?"
   ]
  },
  {
   "cell_type": "code",
   "execution_count": null,
   "id": "ae399a30",
   "metadata": {},
   "outputs": [],
   "source": [
    "Keywords are predefined, reserved words used in Python programming that have special meanings to the compiler.\n",
    "We can not use a keyword as a variable name."
   ]
  },
  {
   "cell_type": "code",
   "execution_count": 2,
   "id": "5581b409",
   "metadata": {},
   "outputs": [
    {
     "ename": "SyntaxError",
     "evalue": "invalid syntax (2057996406.py, line 1)",
     "output_type": "error",
     "traceback": [
      "\u001b[1;36m  Cell \u001b[1;32mIn[2], line 1\u001b[1;36m\u001b[0m\n\u001b[1;33m    return=2     # it will give a syntax error.Because we are using variable name as return(Keyword)\u001b[0m\n\u001b[1;37m          ^\u001b[0m\n\u001b[1;31mSyntaxError\u001b[0m\u001b[1;31m:\u001b[0m invalid syntax\n"
     ]
    }
   ],
   "source": [
    "return=2     # it will give a syntax error.Because we are using variable name as return(Keyword)"
   ]
  },
  {
   "cell_type": "code",
   "execution_count": null,
   "id": "2b97e731",
   "metadata": {},
   "outputs": [],
   "source": []
  },
  {
   "cell_type": "code",
   "execution_count": null,
   "id": "b72461bf",
   "metadata": {},
   "outputs": [],
   "source": [
    "    #########  Que 5   #########"
   ]
  },
  {
   "cell_type": "code",
   "execution_count": null,
   "id": "21730410",
   "metadata": {},
   "outputs": [],
   "source": [
    "Q.5. For what purpose def keyword is used?"
   ]
  },
  {
   "cell_type": "code",
   "execution_count": null,
   "id": "fe184fde",
   "metadata": {},
   "outputs": [],
   "source": [
    "Python def keyword is used to create or define a function."
   ]
  },
  {
   "cell_type": "code",
   "execution_count": 4,
   "id": "64ce93e2",
   "metadata": {},
   "outputs": [],
   "source": [
    "def function():   # defining of the function\n",
    "    print(\"This is my function\")\n",
    "    "
   ]
  },
  {
   "cell_type": "code",
   "execution_count": 5,
   "id": "e913bd0b",
   "metadata": {},
   "outputs": [
    {
     "name": "stdout",
     "output_type": "stream",
     "text": [
      "This is my function\n"
     ]
    }
   ],
   "source": [
    "function()       # calling of the function"
   ]
  },
  {
   "cell_type": "code",
   "execution_count": null,
   "id": "be197448",
   "metadata": {},
   "outputs": [],
   "source": []
  },
  {
   "cell_type": "code",
   "execution_count": null,
   "id": "11728f23",
   "metadata": {},
   "outputs": [],
   "source": [
    "#########  Que 6   #########"
   ]
  },
  {
   "cell_type": "code",
   "execution_count": null,
   "id": "442b3c82",
   "metadata": {},
   "outputs": [],
   "source": [
    "Q.6. What is the operation of this special character ‘\\’?"
   ]
  },
  {
   "cell_type": "code",
   "execution_count": null,
   "id": "984f272a",
   "metadata": {},
   "outputs": [],
   "source": [
    "This is backslask.It separates locations in a file or network path. Python treats a backslash (\\) as an escape character"
   ]
  },
  {
   "cell_type": "code",
   "execution_count": null,
   "id": "e8dacc94",
   "metadata": {},
   "outputs": [],
   "source": []
  },
  {
   "cell_type": "code",
   "execution_count": null,
   "id": "9b8a3a86",
   "metadata": {},
   "outputs": [],
   "source": [
    "    #########  Que 7   #########"
   ]
  },
  {
   "cell_type": "code",
   "execution_count": null,
   "id": "5778eec3",
   "metadata": {},
   "outputs": [],
   "source": [
    "Q.7. Give an example of the following conditions:\n",
    "(i) Homogeneous list\n",
    "(ii) Heterogeneous set\n",
    "(iii) Homogeneous tuple"
   ]
  },
  {
   "cell_type": "code",
   "execution_count": null,
   "id": "3b5ca812",
   "metadata": {},
   "outputs": [],
   "source": [
    "(1)Homogeneous list means that it only contains a same type of data(e.g. array) \n",
    "example:\n",
    "    name = ['Suvarna', 'Saanvi', 'Vinayak', 'Malati', 'Priyanka']"
   ]
  },
  {
   "cell_type": "code",
   "execution_count": null,
   "id": "2c4c7679",
   "metadata": {},
   "outputs": [],
   "source": [
    "(2)Python sets can store heterogeneous elements in it, i.e., a set can store a mixture of string, integer, boolean, etc \n",
    "datatypes.\n",
    "example:"
   ]
  },
  {
   "cell_type": "code",
   "execution_count": 6,
   "id": "868b13db",
   "metadata": {},
   "outputs": [
    {
     "name": "stdout",
     "output_type": "stream",
     "text": [
      "{True, 'Bird', 'buy', 52.7, 10}\n"
     ]
    }
   ],
   "source": [
    "myset = {\"Bird\", \"buy\", 10, 52.7, True}   # values with different datatype\n",
    "print(myset)"
   ]
  },
  {
   "cell_type": "code",
   "execution_count": null,
   "id": "7470e98f",
   "metadata": {},
   "outputs": [],
   "source": [
    "(3)Tuples usually contain a heterogeneous sequence of elements"
   ]
  },
  {
   "cell_type": "code",
   "execution_count": null,
   "id": "5b7759a1",
   "metadata": {},
   "outputs": [],
   "source": []
  },
  {
   "cell_type": "code",
   "execution_count": null,
   "id": "b08ac9b5",
   "metadata": {},
   "outputs": [],
   "source": [
    "  #########  Que 8   #########"
   ]
  },
  {
   "cell_type": "code",
   "execution_count": null,
   "id": "769955b2",
   "metadata": {},
   "outputs": [],
   "source": [
    "Q.8. Explain the mutable and immutable data types with proper explanation & examples."
   ]
  },
  {
   "cell_type": "code",
   "execution_count": null,
   "id": "981f99f9",
   "metadata": {},
   "outputs": [],
   "source": [
    "mutable data types in Python are those whose value can be changed in place after they have been created.\n",
    " list=[1,2,3,4,5]\n",
    "we can append new value to the above list using append() function later on"
   ]
  },
  {
   "cell_type": "code",
   "execution_count": 8,
   "id": "84676781",
   "metadata": {},
   "outputs": [],
   "source": [
    " list=[1,2,3,4,5]"
   ]
  },
  {
   "cell_type": "code",
   "execution_count": 9,
   "id": "cdc206a6",
   "metadata": {},
   "outputs": [
    {
     "data": {
      "text/plain": [
       "[1, 2, 3, 4, 5]"
      ]
     },
     "execution_count": 9,
     "metadata": {},
     "output_type": "execute_result"
    }
   ],
   "source": [
    "list"
   ]
  },
  {
   "cell_type": "code",
   "execution_count": 16,
   "id": "e64dc7b4",
   "metadata": {},
   "outputs": [],
   "source": [
    "list.append(9)   # making changes in list once it get created."
   ]
  },
  {
   "cell_type": "code",
   "execution_count": 17,
   "id": "782829d4",
   "metadata": {},
   "outputs": [
    {
     "data": {
      "text/plain": [
       "[1, 2, 3, 4, 5, 9, 9]"
      ]
     },
     "execution_count": 17,
     "metadata": {},
     "output_type": "execute_result"
    }
   ],
   "source": [
    "list"
   ]
  },
  {
   "cell_type": "code",
   "execution_count": null,
   "id": "5eeabf80",
   "metadata": {},
   "outputs": [],
   "source": [
    "immutable data types in Python are those whose value can not be changed in place after they have been created.\n",
    "Example :tuple"
   ]
  },
  {
   "cell_type": "code",
   "execution_count": 13,
   "id": "ddf9c13c",
   "metadata": {},
   "outputs": [
    {
     "ename": "TypeError",
     "evalue": "'tuple' object does not support item assignment",
     "output_type": "error",
     "traceback": [
      "\u001b[1;31m---------------------------------------------------------------------------\u001b[0m",
      "\u001b[1;31mTypeError\u001b[0m                                 Traceback (most recent call last)",
      "Cell \u001b[1;32mIn[13], line 4\u001b[0m\n\u001b[0;32m      1\u001b[0m tuple1 \u001b[38;5;241m=\u001b[39m (\u001b[38;5;241m2\u001b[39m, \u001b[38;5;241m3\u001b[39m, \u001b[38;5;241m4\u001b[39m, \u001b[38;5;241m5\u001b[39m)  \n\u001b[0;32m      3\u001b[0m \u001b[38;5;66;03m# Trying to modify the tuple object  \u001b[39;00m\n\u001b[1;32m----> 4\u001b[0m tuple1[\u001b[38;5;241m0\u001b[39m] \u001b[38;5;241m=\u001b[39m \u001b[38;5;124m'\u001b[39m\u001b[38;5;124m7\u001b[39m\u001b[38;5;124m'\u001b[39m    \u001b[38;5;66;03m# can not made any chages once get created(immutable)\u001b[39;00m\n\u001b[0;32m      5\u001b[0m \u001b[38;5;28mprint\u001b[39m(tulple1)\n",
      "\u001b[1;31mTypeError\u001b[0m: 'tuple' object does not support item assignment"
     ]
    }
   ],
   "source": [
    "tuple1 = (2, 3, 4, 5)  \n",
    "  \n",
    "# Trying to modify the tuple object  \n",
    "tuple1[0] = '7'    # can not made any chages once get created(immutable)\n",
    "print(tulple1) "
   ]
  },
  {
   "cell_type": "code",
   "execution_count": null,
   "id": "3c5da8a5",
   "metadata": {},
   "outputs": [],
   "source": []
  },
  {
   "cell_type": "code",
   "execution_count": null,
   "id": "fb6cd700",
   "metadata": {},
   "outputs": [],
   "source": [
    "   #########  Que 9   #########"
   ]
  },
  {
   "cell_type": "code",
   "execution_count": null,
   "id": "aa2f87a5",
   "metadata": {},
   "outputs": [],
   "source": [
    "Q.9. Write a code to create the given structure using only for loop.\n",
    "    *\n",
    "   ***\n",
    "  *****\n",
    " *******\n",
    "*********"
   ]
  },
  {
   "cell_type": "code",
   "execution_count": 18,
   "id": "5f3f8675",
   "metadata": {},
   "outputs": [],
   "source": [
    "def pyramid_pattern(n):\n",
    "     \n",
    "    # number of spaces\n",
    "    k = n - 1\n",
    " \n",
    "    # outer loop to handle number of rows\n",
    "    for i in range(0, n):\n",
    "     \n",
    "        # inner loop to handle number spaces\n",
    "        for j in range(0, k):\n",
    "            print(end=\" \")\n",
    "     \n",
    "        # decrementing k after each loop\n",
    "        k = k - 1\n",
    "     \n",
    "        # inner loop to handle number of columns\n",
    "        for j in range(0, i+1):\n",
    "         \n",
    "            # printing stars\n",
    "            print(\"* \", end=\"\")\n",
    "     \n",
    "        # ending line after each row\n",
    "        print(\"\\r\")"
   ]
  },
  {
   "cell_type": "code",
   "execution_count": 19,
   "id": "36e50b7c",
   "metadata": {},
   "outputs": [
    {
     "name": "stdout",
     "output_type": "stream",
     "text": [
      "    * \r\n",
      "   * * \r\n",
      "  * * * \r\n",
      " * * * * \r\n",
      "* * * * * \r\n"
     ]
    }
   ],
   "source": [
    "n = 5         # Driver Code\n",
    "pyramid_pattern(n)"
   ]
  },
  {
   "cell_type": "code",
   "execution_count": null,
   "id": "4d8e97c1",
   "metadata": {},
   "outputs": [],
   "source": []
  },
  {
   "cell_type": "code",
   "execution_count": null,
   "id": "586ded4a",
   "metadata": {},
   "outputs": [],
   "source": [
    "   #########  Que 10   #########"
   ]
  },
  {
   "cell_type": "code",
   "execution_count": null,
   "id": "07bb6814",
   "metadata": {},
   "outputs": [],
   "source": [
    "Q.10. Write a code to create the given structure using while loop.\n",
    "|||||||||\n",
    " |||||||\n",
    "  |||||\n",
    "   |||\n",
    "    |"
   ]
  },
  {
   "cell_type": "code",
   "execution_count": 62,
   "id": "a76fa5f3",
   "metadata": {},
   "outputs": [
    {
     "name": "stdout",
     "output_type": "stream",
     "text": [
      "Enter the number of rows: 9\n",
      " | | | | | | | | |\n",
      "   | | | | | | |\n",
      "     | | | | |\n",
      "       | | |\n",
      "         |\n"
     ]
    }
   ],
   "source": [
    "def pattern(n):\n",
    "   i = n\n",
    "   while i>=1:\n",
    "      # print star\n",
    "      print(\" \"*(n-i) + \" |\" * i)\n",
    "      i-=2 \n",
    " \n",
    "# take input\n",
    "n = int(input('Enter the number of rows: '))\n",
    "\n",
    "# calling function\n",
    "pattern(n)"
   ]
  },
  {
   "cell_type": "code",
   "execution_count": null,
   "id": "4a52e894",
   "metadata": {},
   "outputs": [],
   "source": []
  }
 ],
 "metadata": {
  "kernelspec": {
   "display_name": "Python 3 (ipykernel)",
   "language": "python",
   "name": "python3"
  },
  "language_info": {
   "codemirror_mode": {
    "name": "ipython",
    "version": 3
   },
   "file_extension": ".py",
   "mimetype": "text/x-python",
   "name": "python",
   "nbconvert_exporter": "python",
   "pygments_lexer": "ipython3",
   "version": "3.11.3"
  }
 },
 "nbformat": 4,
 "nbformat_minor": 5
}
